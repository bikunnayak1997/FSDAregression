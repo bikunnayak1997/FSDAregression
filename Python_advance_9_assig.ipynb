{
  "nbformat": 4,
  "nbformat_minor": 0,
  "metadata": {
    "colab": {
      "provenance": [],
      "authorship_tag": "ABX9TyPKowDWRwpVQMoAHl4egQJi",
      "include_colab_link": true
    },
    "kernelspec": {
      "name": "python3",
      "display_name": "Python 3"
    },
    "language_info": {
      "name": "python"
    }
  },
  "cells": [
    {
      "cell_type": "markdown",
      "metadata": {
        "id": "view-in-github",
        "colab_type": "text"
      },
      "source": [
        "<a href=\"https://colab.research.google.com/github/bikunnayak1997/FSDAregression/blob/main/Python_advance_9_assig.ipynb\" target=\"_parent\"><img src=\"https://colab.research.google.com/assets/colab-badge.svg\" alt=\"Open In Colab\"/></a>"
      ]
    },
    {
      "cell_type": "markdown",
      "source": [
        "Q1. In Python 3.X, what are the names and functions of string object types?"
      ],
      "metadata": {
        "id": "WT7FS8j-WtRe"
      }
    },
    {
      "cell_type": "markdown",
      "source": [
        "1. <stirng>.isdecimal() -> Returns True if all characters in a string are decimal.\n",
        "2. <string>.isalnum() -> Returns True if all characters in the string are AlphaNumeric.\n",
        "3.<string>.istitle() -> Returns True if first character in a string is in Uppercase.\n",
        "4.<string>.partition(<sub_string>) -> Splits string at first occurance of sub string and returns a tuple of 3 elements.\n",
        "5.<string>.rpartition(<sub_string>) -> Splits string at last occurance of sub string and returns a tuple of 3 elements.\n",
        "6.<string>.isidentifier() -> Returns True if give string is a valid identifier name.\n",
        "7.len(<string>) -> Returns the length of the given string.\n",
        "8.<string>.index(<sub_string>) -> Returns the lowest index of substring if substring is found in the string.\n",
        "9.<string>.rindex(<sub_string>) -> Returns the highest index of substring if substring is found in the string.\n",
        "10.max(<string>) -> Returns the highest Alphabetical Character in the string as per ASCII.\n",
        "11.min(<string>) -> Returns the lowest Alphabetical Character in the string as per ASCII.\n",
        "12.<string>.splitlines() -> Returns a list of lines in the string.\n",
        "13.<string>.capitalize() -> Returns the string with first character capitalized.\n",
        "14.<string>.upper() -> Returns the string with all characters in uppercase.\n",
        "15.<string>.lower() -> Returns the string with all characters in lowercase\n",
        "16.<string>.casefold() -> Returns the string in lowercase which can be used for caseless comparisions.\n",
        "17.<string>.expandtabs(no_of_spaces) -> Replaces tabs in a string with specified no of spaces default is 8\n",
        "18.<string>.find(<sub_string>) -> Returns lowest index of substring if substring is found in the string else returns -1.\n",
        "19.<string>.rfind(<sub_string>) -> Returns highest index of substring if substring is found in the string else returns -1.\n",
        "20.<string>.count(<char>) -> Returns the no of occurances of the char in the given string.\n",
        "21.<string>.split(<sep>) -> Returns list of words seperated by given sep else seperated by whitespace.\n",
        "22.<string>.rsplit(<sep>) -> Returns list of words seperated by given sep else seperated by whitespace scanning from end.\n",
        "23.<string>.lstrip() -> Returns a copy of where leading whitespaces are removed.\n",
        "24.<string>.rstrip() -> Returns a copy of where trailed whitespaces are removed.\n",
        "25.<string>.strip() -> Returns a copy of where both leading and trailing whitespaces are removed.\n",
        "26.<string>.swapcase() -> Swaps lowercase characters with uppercase and vice versa.\n",
        "27.<sep>.join(<list>) -> Concatenates a list or tuple of words with intervening occuernces of sep.\n",
        "28.<string>.translate(<mapping_table>) -> translates the characters using table.\n",
        "29.<string>.maketrans(<dict>) -> Creating a mapping translation tbale usable 30.for <string>.translate(<mapping_table>)\n",
        "31.<string>.replace(<char_1>,<char_2>) -> Replace all occurances of char_1 with char_2 in string.\n",
        "32.<string>.encode() -> Encodes string into any encoding supported by python. Default encoding is UTF-8.\n",
        "33.<string>.ljust(<no_of_spaces>) -> Left-justify in a field of given width.\n",
        "34.<string>.rjust(<no_of_spaces>) -> Right-justify in a field of given width.\n",
        "35.<string>.center(<no_of_spaces>) -> Center-justify in a field of given width.\n",
        "36.<stirng>.zfill(<length>) -> Zfill adds zeros to the begining of string until the specified length is reached."
      ],
      "metadata": {
        "id": "Z2RgINFmWxJD"
      }
    },
    {
      "cell_type": "code",
      "source": [
        "print('1234567890'.isdecimal())\n",
        "print('IneuronFullStackDS'.isalnum())\n",
        "print('Ineuron Full Stack Data science'.istitle())\n",
        "print('\"I could eat bananas all day, bananas are my favorite fruit\"'.partition('bananas'))\n",
        "print('\"I could eat bananas all day, bananas are my favorite fruit\"'.rpartition('bananas'))\n",
        "print('GeeksForFreaks'.isidentifier())\n",
        "print(len('Linear Regression'))\n",
        "print('Ineuron'.index('n'))\n",
        "print('Ineuron'.rindex('n'))\n",
        "print(max('Data_Scientist'))\n",
        "print(min('Data_Analyst'))\n",
        "print('Ineuron \\n Full Stack \\n Data Science \\n Course '.splitlines())\n",
        "print('finding nemo'.capitalize())\n",
        "print('datapipelines'.upper())\n",
        "print('MLOPS'.lower())\n",
        "print('Doloris Jane Umbridge'.casefold())\n",
        "print('Data science\\tData Analyst'.expandtabs(8))\n",
        "print('Ineuron'.find('n'))\n",
        "print('Ineuron'.rfind('n'))\n",
        "print('Transformers'.count('s'))\n",
        "print('ineuron'.split('n'))\n",
        "print('ineuron'.rsplit('n'))\n",
        "print(' EDA '.lstrip())\n",
        "print(' EDA '.rstrip())\n",
        "print(' EDA '.strip())\n",
        "print('Exploratory Data Analysis'.swapcase())\n",
        "print('_'.join(['Iris','flower','Dataset']))\n",
        "\n",
        "mydict = {83:  80}\n",
        "print(\"Hello Sam!\".translate(mydict))\n",
        "\n",
        "txt = \"Hello Sam!\"\n",
        "mytable = txt.maketrans(\"S\", \"P\")\n",
        "print(txt.translate(mytable))\n",
        "\n",
        "print('Ineuron'.replace('n','2'))\n",
        "print('Natural Language Processing'.encode())\n",
        "print('Nemo'.ljust(10))\n",
        "print('Nemo'.rjust(10))\n",
        "print('Nemo'.center(10))\n",
        "print('Hello'.zfill(10))"
      ],
      "metadata": {
        "colab": {
          "base_uri": "https://localhost:8080/"
        },
        "id": "Mh3lBB_WXpHO",
        "outputId": "88436742-df54-4e3b-e101-41f8c26251a7"
      },
      "execution_count": 1,
      "outputs": [
        {
          "output_type": "stream",
          "name": "stdout",
          "text": [
            "True\n",
            "True\n",
            "False\n",
            "('\"I could eat ', 'bananas', ' all day, bananas are my favorite fruit\"')\n",
            "('\"I could eat bananas all day, ', 'bananas', ' are my favorite fruit\"')\n",
            "True\n",
            "17\n",
            "1\n",
            "6\n",
            "t\n",
            "A\n",
            "['Ineuron ', ' Full Stack ', ' Data Science ', ' Course ']\n",
            "Finding nemo\n",
            "DATAPIPELINES\n",
            "mlops\n",
            "doloris jane umbridge\n",
            "Data science    Data Analyst\n",
            "1\n",
            "6\n",
            "2\n",
            "['i', 'euro', '']\n",
            "['i', 'euro', '']\n",
            "EDA \n",
            " EDA\n",
            "EDA\n",
            "eXPLORATORY dATA aNALYSIS\n",
            "Iris_flower_Dataset\n",
            "Hello Pam!\n",
            "Hello Pam!\n",
            "I2euro2\n",
            "b'Natural Language Processing'\n",
            "Nemo      \n",
            "      Nemo\n",
            "   Nemo   \n",
            "00000Hello\n"
          ]
        }
      ]
    },
    {
      "cell_type": "markdown",
      "source": [
        "Q2. How do the string forms in Python 3.X vary in terms of operations?"
      ],
      "metadata": {
        "id": "StJXPnqnX09Z"
      }
    },
    {
      "cell_type": "markdown",
      "source": [
        "Ans: In Python3 default format of strings is Unicode Whereas in Pyton2 we need to explicitly mention Unicode value using u."
      ],
      "metadata": {
        "id": "AqZahkikX2U4"
      }
    },
    {
      "cell_type": "markdown",
      "source": [
        "Q3. In Python 3.X, how do you put non-ASCII Unicode characters in a string?\n"
      ],
      "metadata": {
        "id": "JwUMSJyAX-Xg"
      }
    },
    {
      "cell_type": "markdown",
      "source": [
        "Ans: In Python 3.x unidecode() method from unidecode library can be used to put non-ASCII Unicode Characters in a string."
      ],
      "metadata": {
        "id": "9zW2JTz2YBl_"
      }
    },
    {
      "cell_type": "markdown",
      "source": [
        "Q5. How can you interpret a Unicode text file containing text encoded in a different encoding than your platform's default?\n"
      ],
      "metadata": {
        "id": "fPDEbjU5YGox"
      }
    },
    {
      "cell_type": "markdown",
      "source": [
        "Ans: Use of encode() and decode() method can be used to you interpret a Unicode text file containing text encoded in a different encoding than your platform's default, by default encoding parameter is UTF-8"
      ],
      "metadata": {
        "id": "JhmHoQZfYPrB"
      }
    },
    {
      "cell_type": "markdown",
      "source": [
        "Q7. What qualifies ASCII text as a form of Unicode text?\n",
        "\n",
        "\n"
      ],
      "metadata": {
        "id": "x-LWd8j7YQ3U"
      }
    },
    {
      "cell_type": "markdown",
      "source": [
        "Ans: Unicode represents most written languages in the world. ASCII has its equivalent in Unicode. The difference between ASCII and Unicode is that ASCII represents lowercase letters (a-z), uppercase letters (A-Z), digits (0–9) and symbols such as punctuation marks while Unicode represents letters of English, Arabic, Greek etc. mathematical symbols, historical scripts, emoji covering a wide range of characters than ASCII."
      ],
      "metadata": {
        "id": "NBvIrra8YYvb"
      }
    },
    {
      "cell_type": "markdown",
      "source": [
        "Q8. How much of an effect does the change in string types in Python 3.X have on your code?\n"
      ],
      "metadata": {
        "id": "_BZkB3xSYb85"
      }
    },
    {
      "cell_type": "markdown",
      "source": [
        "Ans: Python 3 stores strings as Unicode by default whereas Python 2 requires you to mark a string with a u if we want to store it as Unicode. Unicode strings are more versatile than ASCII strings, which are the Python 3.X default, as they can store letters from foreign languages as well as emoji and the standard Roman letters and numerals."
      ],
      "metadata": {
        "id": "NuAVG4REYfOi"
      }
    },
    {
      "cell_type": "markdown",
      "source": [],
      "metadata": {
        "id": "RCeFMelSYglv"
      }
    },
    {
      "cell_type": "code",
      "execution_count": null,
      "metadata": {
        "id": "i1_gjuJJWlai"
      },
      "outputs": [],
      "source": []
    }
  ]
}