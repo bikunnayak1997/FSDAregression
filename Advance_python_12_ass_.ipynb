{
  "nbformat": 4,
  "nbformat_minor": 0,
  "metadata": {
    "colab": {
      "provenance": [],
      "authorship_tag": "ABX9TyPPTVd64Q/3eodgRj9jW9BF"
    },
    "kernelspec": {
      "name": "python3",
      "display_name": "Python 3"
    },
    "language_info": {
      "name": "python"
    }
  },
  "cells": [
    {
      "cell_type": "markdown",
      "source": [
        "Q1. Does assigning a value to a string's indexed character violate Python's string immutability"
      ],
      "metadata": {
        "id": "ri7Yl7HNZUU1"
      }
    },
    {
      "cell_type": "markdown",
      "source": [
        "Ans: String’s indexed character cannot to be assigned a New value as Strings are immutable.\n",
        "Example:\n",
        "\n",
        "\n"
      ],
      "metadata": {
        "id": "HGR_GAPFZYmj"
      }
    },
    {
      "cell_type": "code",
      "execution_count": 1,
      "metadata": {
        "colab": {
          "base_uri": "https://localhost:8080/"
        },
        "id": "dyV1UxD9ZLGv",
        "outputId": "d9137cd5-aeb9-4cc5-cd1c-80f0c2c1e51c"
      },
      "outputs": [
        {
          "output_type": "stream",
          "name": "stdout",
          "text": [
            "138342865432304\n"
          ]
        }
      ],
      "source": [
        "name = \"Reinforcement\"\n",
        "print(id(name))\n"
      ]
    },
    {
      "cell_type": "code",
      "source": [
        "name[0] = \"V\" # Raises TypeError"
      ],
      "metadata": {
        "id": "Go1TMDTmZ6-K"
      },
      "execution_count": null,
      "outputs": []
    },
    {
      "cell_type": "markdown",
      "source": [
        "Q2. Does using the += operator to concatenate strings violate Python's string immutability? Why or why not ?\n"
      ],
      "metadata": {
        "id": "ADcObtcPZ-gI"
      }
    },
    {
      "cell_type": "markdown",
      "source": [
        "Ans: += operator is used to concatenate strings. It does not violate Python’s string immutability Property because doing so creates a new association with data and variable. E.g. str_1=\"a\" and str_1+=\"b. Effect of this statement is to create string ab and reassign it to variable str_1. Any string data is not actually modified."
      ],
      "metadata": {
        "id": "pOxyqjs0aCzy"
      }
    },
    {
      "cell_type": "markdown",
      "source": [
        "Q3. In Python, how many different ways are there to index a character?\n"
      ],
      "metadata": {
        "id": "wsj_hFLnZcUU"
      }
    },
    {
      "cell_type": "markdown",
      "source": [
        "Ans: A Character in string can be indexed using string name followed by index number of character in square bracket. Positive Indexing i.e. first index is 0 an so on, or Negative Indexing i.e. last letter is -1 and so on can be used to index a character"
      ],
      "metadata": {
        "id": "ErdN9vQtaPRy"
      }
    },
    {
      "cell_type": "markdown",
      "source": [
        "Q4. What is the relationship between indexing and slicing?\n",
        "A"
      ],
      "metadata": {
        "id": "802NNYB0aQLY"
      }
    },
    {
      "cell_type": "markdown",
      "source": [
        "ns: We can access elements of sequence datatypes by using slicing and indexing. Indexing is used to obtaining individual element while slicing for sequence of elements."
      ],
      "metadata": {
        "id": "JBTc2MFCaU-z"
      }
    },
    {
      "cell_type": "markdown",
      "source": [
        "Q5. What is an indexed character's exact data type? What is the data form of a slicing-generated substring?\n"
      ],
      "metadata": {
        "id": "JuY7u1TCaXbr"
      }
    },
    {
      "cell_type": "markdown",
      "source": [
        "Ans: Indexed characters and sliced substrings have datatype String."
      ],
      "metadata": {
        "id": "sQxfXLWvahC5"
      }
    },
    {
      "cell_type": "markdown",
      "source": [
        "Q6. What is the relationship between string and character \"types\" in Python?\n",
        "\n",
        "\n"
      ],
      "metadata": {
        "id": "tsjjEXLvaiCM"
      }
    },
    {
      "cell_type": "markdown",
      "source": [
        "Ans: Object that contains sequence of character datatypes are called String."
      ],
      "metadata": {
        "id": "F0wzgmQyav_O"
      }
    },
    {
      "cell_type": "markdown",
      "source": [
        "Q7. Identify at least two operators & one method that allow you to combine one or more smaller strings to create a larger string ?\n"
      ],
      "metadata": {
        "id": "d2jQXLNIapv0"
      }
    },
    {
      "cell_type": "markdown",
      "source": [
        "Ans: +, += and * allow to combine one or more smaller strings to create a larger string. <string>.join(<sep>) method joins element of iterable type like list and tuple to get a combined string."
      ],
      "metadata": {
        "id": "NMec2TU6ar9a"
      }
    },
    {
      "cell_type": "markdown",
      "source": [
        "Q8. What is the benefit of first checking the target string with in or not in before using the index method to find a substring ?\n"
      ],
      "metadata": {
        "id": "EVXmtS4-a17c"
      }
    },
    {
      "cell_type": "markdown",
      "source": [
        "Ans: Checking the target string with in or not Operators before using the index method to find a substring just helps confirming availability of substring and thus avoid raising of ValueError."
      ],
      "metadata": {
        "id": "TFAfakzMa36S"
      }
    },
    {
      "cell_type": "markdown",
      "source": [
        "Q9. Which operators and built-in string methods produce simple Boolean (true/false) results?\n"
      ],
      "metadata": {
        "id": "9FBtLPcoa5AJ"
      }
    },
    {
      "cell_type": "markdown",
      "source": [
        "Ans: The String Operators and built-in methods to Produce Simple Boolean (True/False) Results are:\n",
        "\n",
        "  1.in\n",
        "  2.not\n",
        "  3.<string>.isalpha()\n",
        "  4.<string>.isalnum()\n",
        "  5.<string>.isdecimal()\n",
        "  6.<string>.isdigit()\n",
        "  7.<string>.islower()\n",
        "  8.<string>.isnumeric()\n",
        "  9.<string>.isprintable()\n",
        "  10.<string>.isspace()\n",
        "  11.<string>.istitle()"
      ],
      "metadata": {
        "id": "JA-LDqJma9SB"
      }
    },
    {
      "cell_type": "markdown",
      "source": [],
      "metadata": {
        "id": "RRub28pCbjc4"
      }
    },
    {
      "cell_type": "markdown",
      "source": [],
      "metadata": {
        "id": "-JdRlc7Lbeox"
      }
    }
  ]
}